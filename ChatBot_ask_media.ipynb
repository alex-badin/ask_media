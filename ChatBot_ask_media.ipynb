{
 "cells": [
  {
   "cell_type": "markdown",
   "metadata": {},
   "source": [
    "# Working stuff"
   ]
  },
  {
   "cell_type": "markdown",
   "metadata": {},
   "source": [
    "1. Set user request - question, sources/stance, period\n",
    "2. Find similar news\n",
    "3. Ask openai with context from similar news (from 2)"
   ]
  },
  {
   "cell_type": "code",
   "execution_count": null,
   "metadata": {},
   "outputs": [],
   "source": [
    "import pandas as pd \n",
    "import numpy as np\n",
    "import openai"
   ]
  },
  {
   "cell_type": "code",
   "execution_count": null,
   "metadata": {},
   "outputs": [],
   "source": [
    "df = pd.read_csv('../TG news channels/filtered/df_war_ukr_filtered.csv')"
   ]
  },
  {
   "cell_type": "code",
   "execution_count": null,
   "metadata": {},
   "outputs": [],
   "source": [
    "df.columns"
   ]
  },
  {
   "cell_type": "code",
   "execution_count": null,
   "metadata": {},
   "outputs": [],
   "source": [
    "# model = \"paraphrase-multilingual-mpnet-base-v2\" -> 768 dimensions\n",
    "model = 'all-MiniLM-L6-v2'"
   ]
  },
  {
   "cell_type": "markdown",
   "metadata": {},
   "source": [
    "#### convert ada embeds to np array"
   ]
  },
  {
   "cell_type": "code",
   "execution_count": null,
   "metadata": {},
   "outputs": [],
   "source": [
    "# convert df['ada_embedding'] to numpy array\n",
    "import ast\n",
    "from tqdm import tqdm\n",
    "\n",
    "tqdm.pandas()\n",
    "\n",
    "df['emb'] = df['ada_embedding'].progress_apply(lambda x: np.array(ast.literal_eval(x)))"
   ]
  },
  {
   "cell_type": "code",
   "execution_count": null,
   "metadata": {},
   "outputs": [],
   "source": [
    "# df[['ada_embedding', 'emb']].head()\n",
    "type(df['ada_embedding'][0]), type(df['emb'][0])"
   ]
  },
  {
   "cell_type": "code",
   "execution_count": null,
   "metadata": {},
   "outputs": [],
   "source": [
    "df.info(memory_usage='deep')"
   ]
  },
  {
   "cell_type": "code",
   "execution_count": null,
   "metadata": {},
   "outputs": [],
   "source": [
    "df.to_pickle('../TG news channels/filtered/df_war_ukr_filtered_ada_emb.pkl')"
   ]
  },
  {
   "cell_type": "code",
   "execution_count": null,
   "metadata": {},
   "outputs": [],
   "source": [
    "df.info(memory_usage='deep')"
   ]
  },
  {
   "cell_type": "code",
   "execution_count": null,
   "metadata": {},
   "outputs": [],
   "source": [
    "df.columns"
   ]
  },
  {
   "cell_type": "code",
   "execution_count": null,
   "metadata": {},
   "outputs": [],
   "source": [
    "df['ada_embedding'].info(memory_usage='deep')"
   ]
  },
  {
   "cell_type": "code",
   "execution_count": null,
   "metadata": {},
   "outputs": [],
   "source": [
    "# remove ada_embedding (the column is too big and useless as stored as string)\n",
    "df.drop(columns=['ada_embedding'], inplace=True)\n",
    "df.to_pickle('../TG news channels/filtered/df_war_ukr_filtered_ada_emb.pkl')"
   ]
  },
  {
   "cell_type": "code",
   "execution_count": 17,
   "metadata": {},
   "outputs": [],
   "source": [
    "data_path = '/Users/alexbadin/Library/CloudStorage/GoogleDrive-alex.badin@gmail.com/My Drive/Colab Notebooks/Narratives/TG news channels/'\n",
    "df_sources_types = pd.read_csv(data_path+'/channels.csv', sep=';')"
   ]
  },
  {
   "cell_type": "code",
   "execution_count": 18,
   "metadata": {},
   "outputs": [
    {
     "data": {
      "text/plain": [
       "stance\n",
       "inet propaganda    19\n",
       "altern              9\n",
       "moder               8\n",
       "tv                  6\n",
       "voenkor             6\n",
       "Name: count, dtype: int64"
      ]
     },
     "execution_count": 18,
     "metadata": {},
     "output_type": "execute_result"
    }
   ],
   "source": [
    "# new variable as per the list above\n",
    "df_sources_types['stance'] = df_sources_types['content_type']\n",
    "df_sources_types.loc[df_sources_types['media_type'] == 'tv', 'stance'] = 'tv'\n",
    "# rename 'propaganda'\n",
    "df_sources_types['stance'] = df_sources_types['stance'].replace('propaganda', 'inet propaganda')\n",
    "df_sources_types.stance.value_counts()"
   ]
  },
  {
   "cell_type": "code",
   "execution_count": 19,
   "metadata": {},
   "outputs": [],
   "source": [
    "# add stance to df\n",
    "df = df.merge(df_sources_types[['channel_name', 'stance']], on='channel_name', how='left')\n",
    "df.to_pickle('../TG news channels/filtered/df_war_ukr_filtered_ada_emb.pkl')"
   ]
  },
  {
   "cell_type": "code",
   "execution_count": 101,
   "metadata": {},
   "outputs": [],
   "source": [
    "# deduplicate texts\n",
    "df.drop_duplicates(subset=['cleaned_message'], inplace=True)\n",
    "df.to_pickle('../TG news channels/filtered/df_war_ukr_filtered_ada_emb.pkl')"
   ]
  },
  {
   "cell_type": "code",
   "execution_count": 102,
   "metadata": {},
   "outputs": [
    {
     "data": {
      "text/plain": [
       "(110823, 17)"
      ]
     },
     "execution_count": 102,
     "metadata": {},
     "output_type": "execute_result"
    }
   ],
   "source": [
    "df.shape"
   ]
  },
  {
   "cell_type": "markdown",
   "metadata": {},
   "source": [
    "# User inputs"
   ]
  },
  {
   "cell_type": "code",
   "execution_count": 108,
   "metadata": {},
   "outputs": [],
   "source": [
    "# question to ask media\n",
    "request = \"Какова ситуация на фронте в Украине\"\n",
    "dates = ['2022-08-01', '2022-12-31'] # list of min and max dates. If only one date - assumed to be min date.\n",
    "sources = [] # list of sources. Must be exact match to the source name in the dataset \n",
    "stance = ['voenkor'] # list of stances. Must be exact match to the content type in the dataset ['inet propaganda', 'altern', 'tv', 'moder', 'voenkor']"
   ]
  },
  {
   "cell_type": "markdown",
   "metadata": {},
   "source": [
    "# With openai embeddings"
   ]
  },
  {
   "cell_type": "markdown",
   "metadata": {},
   "source": [
    "Сейчас эмбединги openai обрезанные. Толкьо поэтому файл небольшой. \n",
    "\n",
    "Нужна нормальная веткорная база данных. "
   ]
  },
  {
   "cell_type": "markdown",
   "metadata": {},
   "source": [
    "### load data"
   ]
  },
  {
   "cell_type": "code",
   "execution_count": 63,
   "metadata": {},
   "outputs": [],
   "source": [
    "import pandas as pd \n",
    "import numpy as np\n",
    "import openai"
   ]
  },
  {
   "cell_type": "markdown",
   "metadata": {},
   "source": [
    "### load pickle df & filter"
   ]
  },
  {
   "cell_type": "code",
   "execution_count": 64,
   "metadata": {},
   "outputs": [],
   "source": [
    "df = pd.read_pickle('../TG news channels/filtered/df_war_ukr_filtered_ada_emb.pkl')"
   ]
  },
  {
   "cell_type": "code",
   "execution_count": 65,
   "metadata": {},
   "outputs": [
    {
     "name": "stdout",
     "output_type": "stream",
     "text": [
      "<class 'pandas.core.frame.DataFrame'>\n",
      "RangeIndex: 127986 entries, 0 to 127985\n",
      "Data columns (total 17 columns):\n",
      " #   Column           Non-Null Count   Dtype \n",
      "---  ------           --------------   ----- \n",
      " 0   channel_id       127986 non-null  int64 \n",
      " 1   channel_name     127986 non-null  object\n",
      " 2   msg_id           127986 non-null  int64 \n",
      " 3   message          127986 non-null  object\n",
      " 4   cleaned_message  127986 non-null  object\n",
      " 5   date             127986 non-null  object\n",
      " 6   views            127986 non-null  int64 \n",
      " 7   number_replies   127986 non-null  int64 \n",
      " 8   number_forwards  127986 non-null  int64 \n",
      " 9   contains_media   127986 non-null  bool  \n",
      " 10  media_type       68624 non-null   object\n",
      " 11  has_url          127986 non-null  bool  \n",
      " 12  url              15164 non-null   object\n",
      " 13  domain           15164 non-null   object\n",
      " 14  document_type    30323 non-null   object\n",
      " 15  emb              127986 non-null  object\n",
      " 16  stance           127986 non-null  object\n",
      "dtypes: bool(2), int64(5), object(10)\n",
      "memory usage: 432.9 MB\n"
     ]
    }
   ],
   "source": [
    "df.info(memory_usage='deep')"
   ]
  },
  {
   "cell_type": "code",
   "execution_count": 109,
   "metadata": {},
   "outputs": [
    {
     "name": "stdout",
     "output_type": "stream",
     "text": [
      "Number of messages in the filtered dataset: 2927, 2.64% of the full dataset\n"
     ]
    }
   ],
   "source": [
    "# filter by date, source, stance\n",
    "\n",
    "df_filtered = df.copy()\n",
    "if dates:\n",
    "    if len(dates) == 1:\n",
    "        df_filtered = df_filtered[df_filtered['date'] >= dates[0]]\n",
    "    elif len(dates) == 2:\n",
    "        df_filtered = df_filtered[(df_filtered['date'] >= dates[0]) & (df_filtered['date'] <= dates[1])]\n",
    "if sources:\n",
    "    df_filtered = df_filtered[df_filtered['source'].isin(sources)]\n",
    "if stance:\n",
    "    df_filtered = df_filtered[df_filtered['stance'].isin(stance)]\n",
    "\n",
    "print(f\"Number of messages in the filtered dataset: {df_filtered.shape[0]}, {df_filtered.shape[0]/df.shape[0]*100:.2f}% of the full dataset\")"
   ]
  },
  {
   "cell_type": "markdown",
   "metadata": {},
   "source": [
    "## find top relevant news"
   ]
  },
  {
   "cell_type": "code",
   "execution_count": 79,
   "metadata": {},
   "outputs": [],
   "source": [
    "api_key = open('API_key.txt', 'r').readline().strip()\n",
    "openai.api_key = api_key"
   ]
  },
  {
   "cell_type": "code",
   "execution_count": 80,
   "metadata": {},
   "outputs": [],
   "source": [
    "# embed request\n",
    "def get_embedding(text, model=\"text-embedding-ada-002\"):\n",
    "   text = text.replace(\"\\n\", \" \")\n",
    "   return openai.Embedding.create(input = [text], model=model)['data'][0]['embedding']"
   ]
  },
  {
   "cell_type": "code",
   "execution_count": 81,
   "metadata": {},
   "outputs": [],
   "source": [
    "# OPTION 1: find top 10 news closest to request (cosine similarity)\n",
    "\n",
    "# optional parameter request_emb\n",
    "def get_top_openai(df, request=None, request_emb=None, model=\"text-embedding-ada-002\", top_n=100):\n",
    "    if request_emb is None and request is None:\n",
    "        print('Error: no request')\n",
    "        return\n",
    "    if request_emb is None:\n",
    "        request_emb = get_embedding(request)\n",
    "    df['cos_sim'] = df['emb'].apply(lambda x: np.dot(x, request_emb)/(np.linalg.norm(x)*np.linalg.norm(request_emb)))\n",
    "    return df.sort_values(by='cos_sim', ascending=False).head(top_n)"
   ]
  },
  {
   "cell_type": "code",
   "execution_count": 110,
   "metadata": {},
   "outputs": [
    {
     "data": {
      "text/plain": [
       "(1000, 18)"
      ]
     },
     "execution_count": 110,
     "metadata": {},
     "output_type": "execute_result"
    }
   ],
   "source": [
    "# get embedding for the request & find relevant news\n",
    "request_ada = get_embedding(request)\n",
    "top_sim_news = get_top_openai(df_filtered, request_emb=request_ada, top_n = 1000)\n",
    "top_sim_news.shape"
   ]
  },
  {
   "cell_type": "code",
   "execution_count": 111,
   "metadata": {},
   "outputs": [
    {
     "data": {
      "text/plain": [
       "<Axes: >"
      ]
     },
     "execution_count": 111,
     "metadata": {},
     "output_type": "execute_result"
    },
    {
     "data": {
      "image/png": "[encoded data removed]",
      "text/plain": [
       "<Figure size 640x480 with 1 Axes>"
      ]
     },
     "metadata": {},
     "output_type": "display_data"
    }
   ],
   "source": [
    "top_sim_news.cos_sim.hist(bins=10)"
   ]
  },
  {
   "cell_type": "code",
   "execution_count": 126,
   "metadata": {},
   "outputs": [],
   "source": [
    "top_sim_news.reset_index(drop=True, inplace=True)"
   ]
  },
  {
   "cell_type": "code",
   "execution_count": 134,
   "metadata": {},
   "outputs": [
    {
     "data": {
      "text/plain": [
       "(10.695854425424503, 0.02388086909354048, 8.716978358044283, 841.6787925123318)"
      ]
     },
     "execution_count": 134,
     "metadata": {},
     "output_type": "execute_result"
    }
   ],
   "source": [
    "auc_tot, auc_top, top_sim_news[:10].cos_sim.sum(), top_sim_news.cos_sim.sum()"
   ]
  },
  {
   "cell_type": "code",
   "execution_count": 127,
   "metadata": {},
   "outputs": [
    {
     "name": "stdout",
     "output_type": "stream",
     "text": [
      "Share of similarity of Top10 news out of total 1000 = 0.0022327219634529273\n"
     ]
    }
   ],
   "source": [
    "# calculate area under curve for top_sim_news.cos_sim and find optimal threshold (area > 0.5)\n",
    "from sklearn.metrics import auc\n",
    "auc_tot = auc(top_sim_news.cos_sim, top_sim_news.index)\n",
    "# calculate area under curve for top news\n",
    "top_n = 10\n",
    "auc_top = auc(top_sim_news.cos_sim[:top_n], top_sim_news.index[:top_n])\n",
    "print(f\"Share of similarity of Top{top_n} news out of total {len(top_sim_news)} = {auc_top / auc_tot}\")"
   ]
  },
  {
   "cell_type": "code",
   "execution_count": 113,
   "metadata": {},
   "outputs": [
    {
     "data": {
      "text/plain": [
       "4045"
      ]
     },
     "execution_count": 113,
     "metadata": {},
     "output_type": "execute_result"
    }
   ],
   "source": [
    "news4request = '\\n'.join(top_sim_news[:top_n].cleaned_message.tolist())\n",
    "len(news4request)"
   ]
  },
  {
   "cell_type": "code",
   "execution_count": 115,
   "metadata": {},
   "outputs": [
    {
     "name": "stdout",
     "output_type": "stream",
     "text": [
      "Короткие видео с участка фронта в районе Кременной, полоса обороны 144 мсд. Горящий танк и бмп ВСУ, обстрел украинского опорника в лесополосе. Будни войны.\n",
      "Чем хуевей дела на фронте (Бахмут) и с критической инфраструктурой, тем сильнее предлагают украинцам жрать информационное говно. Хочу отметить, что взял я это из чата одного крупного горда Украины и там совсем не радуются таким заявлениям, сравнивают с Арестовичем.\n",
      "❗Несколько тысяч человек арестованы в прифронтовых областях Украины По данным \"Страны V\", украинские силовики проводят активные репрессии в отношении собственных граждан. В основном речь идет о случайных жертвах доносов. \"Всего арестовано несколько тысяч человек. Главным образом это Харьковская, Херсонская, Николаевская и Одесская области\", — рассказал источник канала. По его словам, украинские спецслужбы ищут \"российских агентов\" и не планируют останавливаться на достигнутом. При этом экономическая и гуманитарная ситуация в прифронтовых регионах ухудшается с каждым днем.  Страна V. Подписаться\n",
      "Тревога по всей украине\n",
      "Был в Киселёвке, направление на Посад-Покровское. Всё в порядке, линия фронта без изменений. ВСУ и укросми проводят психологический прессинг, выжимая максимум из Харьковской медийной истории.\n",
      "❗ На Андреевском участке фронта в настоящее время украинские диверсионно-разведывательные группы прощупывают оборону ВС РФ. Кроме того, отмечен пуск ракеты из ОТРК «Точка-У» в направлении Херсонской области. #Николаев #Россия #Украина #Херсон @rybar *Поддержать нас: 4377 7278 0407 7977\n",
      "Пополняем обменный фонд. Результат попытки вчерашнего ночного контрнаступления укронацистов на Харьковском фронте. Данные украинские нацисты наступали в направлении нп Дементиевка. Получили пизды жёсткий отпор и были взяты в плен бойцами уже хорошо знакомой нам 200й бригады, которые ранее штурманули Уды, а теперь удерживают там оборону. Неуважаемые украинцы сидящие в Золочеве - 200я бригада, группа воздушной разведки \"Персей\" 69го БДСМ предупреждает - \"мне с верху видно всё, ты так и знай\" \n",
      "❗ Битва за Харьков: обстановка на Изюмско-Купянском участке фронта к исходу 9 сентября 2022 года Купянское направление ▪За счет переброски резервов на Купянский участок фронта ВС РФ удалось остановить продвижение основных сил ВСУ в нескольких километрах от городской черты. ▪К исходу дня ВСУ установили контроль над селами Чкаловское, Шевченко, Боровское и контролируют трассу Чугуев — Купянск до Грушевки, что позволило перебросить технику и артиллерийские системы к линии боевого соприкосновения. ▪Украинское командование формирует ударную группировку для штурма Купянска в районе Грушевки и Староверовки. ВС РФ наносят артиллерийские и ракетно-бомбовые удары по местам сосредоточения сил противника. ▪ВСУ ведут обстрелы тыловых населенных пунктов \n",
      "Только что выбрался из Изюма по единственной оставшейся дороге Если в двух словах, то ситуация крайне острая. ВСУ сосредоточили очень большую группировку. И территория сложная. Изюм, по сути, всё это время был в полукольце. С одной стороны Славянск, с другой в каких-то сорока километрах уже проходит северский фронт. Наши парни настоящие герои. Эта атака украинцев лишь сплотила их ряды. Даже находясь в численном меньшинстве, они перекрывают сложные участки и занимают рубежи, несмотря на опасность оказаться в кольце.\n",
      "Фронтовая сводка в направлении Сватово - Кременная по состоянию на 1 декабря ▪По состоянию на 1 декабря с.г. укрофашисты сохраняют свои позиции районах населенных пунктов Кисловка, Стельмаховка, Райгородка, Макеевка, Невское. Снижение среднесуточных температур придало уверенности укропам для наступления, но это им не помогло. ▪За прошедшие сутки войска украинского режима атаковали позиции ВС РФ в районах н.п.Куземовка, Новоселовское, Площанка, Червонопоповка, Житловка и понесли значительные потери около 100 чел. в живой силе, а также около 15 ед. бронированной технике. ▪Также последователи Бандеры, с улучшением погодных условий, увеличили число ДРГ ВСУ и расчетов БПЛА, действующих по всей линии соприкосновения, но опять потерпели фиаско, ми\n"
     ]
    }
   ],
   "source": [
    "# print with line breaks\n",
    "print(news4request)"
   ]
  },
  {
   "cell_type": "markdown",
   "metadata": {},
   "source": [
    "### try vector DB?"
   ]
  },
  {
   "cell_type": "code",
   "execution_count": null,
   "metadata": {},
   "outputs": [],
   "source": [
    "# use faiss to find top 10 news closest to request (cosine similarity)\n",
    "import faiss\n",
    "def get_top_faiss(df, request_emb, top_n=10):\n",
    "    df['emb'] = df['emb'].apply(lambda x: np.array(x))\n",
    "    emb = np.array(df['emb'].tolist())\n",
    "    emb = np.vstack([request_emb, emb])\n",
    "    emb = emb.astype('float32')\n",
    "    index = faiss.IndexFlatIP(768)\n",
    "    index.add(emb)\n",
    "    D, I = index.search(emb, top_n)\n",
    "    return df.iloc[I[0][1:]]"
   ]
  },
  {
   "cell_type": "code",
   "execution_count": null,
   "metadata": {},
   "outputs": [],
   "source": []
  },
  {
   "cell_type": "code",
   "execution_count": null,
   "metadata": {},
   "outputs": [],
   "source": []
  },
  {
   "cell_type": "code",
   "execution_count": null,
   "metadata": {},
   "outputs": [],
   "source": [
    "# OPTION 2\n",
    "# find top 1000 news closest to request, but with different narratives\n",
    "# cluster anaysis with representative news from each cluster\n",
    "\n",
    "\n",
    "\n",
    "# check length (for context window)\n"
   ]
  },
  {
   "cell_type": "markdown",
   "metadata": {},
   "source": [
    "## Ask OpenAI"
   ]
  },
  {
   "cell_type": "code",
   "execution_count": 118,
   "metadata": {},
   "outputs": [],
   "source": [
    "# check length (for context window)\n",
    "import tiktoken\n",
    "encoding = tiktoken.get_encoding(\"cl100k_base\")\n",
    "# pricing for GPT3.5 4K\n",
    "price_1K = 0.0015\n",
    "def num_tokens_from_string(string: str, encoding_name: str, price_1K = 0.0015) -> int:\n",
    "    \"\"\"Returns the number of tokens in a text string.\"\"\"\n",
    "    encoding = tiktoken.get_encoding(encoding_name)\n",
    "    num_tokens = len(encoding.encode(string))\n",
    "    if num_tokens > 4096:\n",
    "        print(f\"Warning: num_tokens = {num_tokens} > 4096\")\n",
    "    return f\"N of tokens - {num_tokens} vs  Max 4,096 tokens ; Cost - ${round(num_tokens/1000*price_1K, 3)}\""
   ]
  },
  {
   "cell_type": "code",
   "execution_count": 119,
   "metadata": {},
   "outputs": [
    {
     "data": {
      "text/plain": [
       "'N of tokens - 2045 vs  Max 4,096 tokens ; Cost - $0.003'"
      ]
     },
     "execution_count": 119,
     "metadata": {},
     "output_type": "execute_result"
    }
   ],
   "source": [
    "num_tokens_from_string(news4request, \"cl100k_base\", price_1K = price_1K)"
   ]
  },
  {
   "cell_type": "code",
   "execution_count": 120,
   "metadata": {},
   "outputs": [
    {
     "name": "stdout",
     "output_type": "stream",
     "text": [
      "Какова ситуация на фронте в Украине\n"
     ]
    },
    {
     "data": {
      "text/plain": [
       "'N of tokens - 19 vs  Max 4,096 tokens ; Cost - $0.0'"
      ]
     },
     "execution_count": 120,
     "metadata": {},
     "output_type": "execute_result"
    }
   ],
   "source": [
    "print(request)\n",
    "num_tokens_from_string(request, \"cl100k_base\", price_1K = price_1K)"
   ]
  },
  {
   "cell_type": "code",
   "execution_count": 93,
   "metadata": {},
   "outputs": [],
   "source": [
    "# simple function - suceptible to openai disconnection\n",
    "\n",
    "def ask_openai(request, news4request):\n",
    "    response = openai.ChatCompletion.create(\n",
    "        model=\"gpt-3.5-turbo\",\n",
    "        messages=[\n",
    "            {\n",
    "            \"role\": \"system\",\n",
    "            \"content\": \"You are given few short texts in Russian. Based on this texts answer the following question:\\n{request}\"\n",
    "            },\n",
    "            {\n",
    "            \"role\": \"user\",\n",
    "            \"content\": news4request\n",
    "            }\n",
    "        ],\n",
    "        temperature=1,\n",
    "        max_tokens=512,\n",
    "        top_p=1,\n",
    "        frequency_penalty=0,\n",
    "        presence_penalty=0\n",
    "        )\n",
    "    return response"
   ]
  },
  {
   "cell_type": "code",
   "execution_count": 121,
   "metadata": {},
   "outputs": [],
   "source": [
    "# code for openai connection problems\n",
    "\n",
    "from tenacity import (\n",
    "    retry,\n",
    "    stop_after_attempt,\n",
    "    wait_random_exponential,\n",
    ")  # for exponential backoff\n",
    "\n",
    "@retry(wait=wait_random_exponential(min=1, max=60), stop=stop_after_attempt(6))\n",
    "def completion_with_backoff(**kwargs):\n",
    "    return openai.ChatCompletion.create(**kwargs)\n",
    "\n",
    "def ask_openai(request, news4request, model_name=\"gpt-3.5-turbo\"):\n",
    "    response = completion_with_backoff(\n",
    "                model = model_name,\n",
    "                messages=[\n",
    "                    {\n",
    "                    \"role\": \"system\",\n",
    "                    \"content\": \"You are given few short texts in Russian. Based on this texts answer the following question:\\n{request}. \\nОтвечай на русском.\"\n",
    "                    },\n",
    "                    {\n",
    "                    \"role\": \"user\",\n",
    "                    \"content\": news4request\n",
    "                    }\n",
    "                ],\n",
    "                temperature=1,\n",
    "                max_tokens=512,\n",
    "                top_p=1,\n",
    "                frequency_penalty=0,\n",
    "                presence_penalty=0\n",
    "    )\n",
    "    return response"
   ]
  },
  {
   "cell_type": "code",
   "execution_count": 122,
   "metadata": {},
   "outputs": [],
   "source": [
    "reply = ask_openai(request, news4request)"
   ]
  },
  {
   "cell_type": "code",
   "execution_count": 123,
   "metadata": {},
   "outputs": [
    {
     "name": "stdout",
     "output_type": "stream",
     "text": [
      "Cost - $0.004\n",
      "Request: Какова ситуация на фронте в Украине; \n",
      "Filters: dates: ['2022-08-01', '2022-12-31']; sources: []; stance: ['voenkor']\n",
      "\n",
      "На основании предоставленных текстов можно сделать вывод о том, что на фронте в Украине продолжаются\n",
      "боевые действия. Видеозаписи и сводки сообщают о горящих танках и БМП ВСУ, обстреле опорников и\n",
      "активной деятельности российских и украинских сил. Также упоминается ухудшение экономической и\n",
      "гуманитарной ситуации в прифронтовых регионах. Кроме того, тексты содержат информацию о числе\n",
      "арестованных людей и проводимых репрессиях в отношении граждан Украины. В некоторых текстах также\n",
      "упоминаются попытки противников атаковать позиции сил РФ, но сопротивление оказывается успешным.\n"
     ]
    }
   ],
   "source": [
    "import textwrap\n",
    "\n",
    "reply_text = reply.choices[0]['message']['content']\n",
    "reply_cost = reply.usage.total_tokens / 1000 * price_1K\n",
    "print(f\"Cost - ${round(reply_cost, 3)}\")\n",
    "print(f\"Request: {request}; \\nFilters: dates: {dates}; sources: {sources}; stance: {stance}\")\n",
    "print()\n",
    "# print wrapped text\n",
    "print('\\n'.join(textwrap.wrap(reply_text, 100)))"
   ]
  },
  {
   "cell_type": "code",
   "execution_count": 135,
   "metadata": {},
   "outputs": [],
   "source": [
    "# add reply & inputs to csv-file\n",
    "import csv\n",
    "\n",
    "# if file does not exist write header\n",
    "with open('openai_chatbot.csv', 'a', newline='') as csvfile:\n",
    "    writer = csv.writer(csvfile)\n",
    "    writer.writerow(['request', 'dates', 'sources', 'stance', 'reply_text', 'reply_cost'])\n",
    "\n",
    "with open('openai_chatbot.csv', 'a', newline='') as csvfile:\n",
    "    writer = csv.writer(csvfile)\n",
    "    writer.writerow([request, dates, sources, stance, reply_text, reply_cost])"
   ]
  },
  {
   "cell_type": "code",
   "execution_count": null,
   "metadata": {},
   "outputs": [],
   "source": []
  }
 ],
 "metadata": {
  "kernelspec": {
   "display_name": "bertopic",
   "language": "python",
   "name": "python3"
  },
  "language_info": {
   "codemirror_mode": {
    "name": "ipython",
    "version": 3
   },
   "file_extension": ".py",
   "mimetype": "text/x-python",
   "name": "python",
   "nbconvert_exporter": "python",
   "pygments_lexer": "ipython3",
   "version": "3.11.5"
  },
  "orig_nbformat": 4
 },
 "nbformat": 4,
 "nbformat_minor": 2
}
