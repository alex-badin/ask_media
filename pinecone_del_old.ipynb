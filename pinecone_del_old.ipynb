{
 "cells": [
  {
   "cell_type": "code",
   "execution_count": 1,
   "metadata": {},
   "outputs": [
    {
     "name": "stderr",
     "output_type": "stream",
     "text": [
      "/Users/alexbadin/miniconda3/envs/db_prep/lib/python3.11/site-packages/pinecone/index.py:4: TqdmExperimentalWarning: Using `tqdm.autonotebook.tqdm` in notebook mode. Use `tqdm.tqdm` instead to force console mode (e.g. in jupyter console)\n",
      "  from tqdm.autonotebook import tqdm\n"
     ]
    }
   ],
   "source": [
    "import pinecone\n",
    "import json\n",
    "from datetime import datetime, timedelta\n",
    "\n",
    "keys_path = 'keys/'\n",
    "\n",
    "with open(keys_path+'api_keys.json') as f:\n",
    "  data = json.loads(f.read())\n",
    "\n",
    "# load pinecone credentials\n",
    "pine_key = data['pine_key']\n",
    "pine_env = data['pine_env']\n",
    "\n",
    "# initialize pinecone\n",
    "pinecone.init(api_key=pine_key, environment=pine_env)\n",
    "index_name = 'tg-news'\n",
    "\n",
    "index = pinecone.Index(index_name)"
   ]
  },
  {
   "cell_type": "code",
   "execution_count": 7,
   "metadata": {},
   "outputs": [
    {
     "name": "stdout",
     "output_type": "stream",
     "text": [
      "Deleted 1000 records older than 40 days\n",
      "Deleted 1000 records older than 40 days\n",
      "Deleted 1000 records older than 40 days\n",
      "Deleted 1000 records older than 40 days\n",
      "Deleted 850 records older than 40 days\n",
      "Deleted 850 records older than 40 days\n",
      "No more records older than 40 days\n",
      "Deleted 5700 records older than 40 days\n",
      "!!!! FINISHED !!!!\n"
     ]
    }
   ],
   "source": [
    "# remove records from index older than N days\n",
    "days=40\n",
    "end_date = (datetime.today() - timedelta(days=days)).strftime('%Y-%m-%d')\n",
    "end_date = int(datetime.strptime(end_date, '%Y-%m-%d').timestamp())\n",
    "# create dump embedding with all zeros of 1536 dimensions\n",
    "zero_emb = [0]*1536\n",
    "\n",
    "filter = {\n",
    "    \"date\": { \"$lte\": end_date}\n",
    "    }\n",
    "\n",
    "# loop until all records older than 30 days are deleted\n",
    "num_deleted = 0\n",
    "while True:\n",
    "    # get 1K random ids of records older than 30 days\n",
    "    res = index.query(zero_emb, top_k=1000, include_metadata=False, filter=filter)\n",
    "    if res['matches'] == []:\n",
    "        print(f'No more records older than {days} days')\n",
    "        print(f'Deleted {num_deleted} records older than {days} days')\n",
    "        print('!!!! FINISHED !!!!')\n",
    "        break\n",
    "    ids = [r.id for r in res['matches']]\n",
    "    delete_response = index.delete(ids=ids)\n",
    "    if delete_response == {}: \n",
    "        num_deleted += len(ids)\n",
    "        print(f'Deleted {len(ids)} records older than {days} days')"
   ]
  }
 ],
 "metadata": {
  "kernelspec": {
   "display_name": "db_prep",
   "language": "python",
   "name": "python3"
  },
  "language_info": {
   "codemirror_mode": {
    "name": "ipython",
    "version": 3
   },
   "file_extension": ".py",
   "mimetype": "text/x-python",
   "name": "python",
   "nbconvert_exporter": "python",
   "pygments_lexer": "ipython3",
   "version": "3.11.6"
  }
 },
 "nbformat": 4,
 "nbformat_minor": 2
}
