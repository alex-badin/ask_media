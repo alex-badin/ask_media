{
 "cells": [
  {
   "cell_type": "code",
   "execution_count": null,
   "metadata": {},
   "outputs": [],
   "source": [
    "from pinecone import Pinecone\n",
    "import json\n",
    "from datetime import datetime, timedelta\n",
    "\n",
    "keys_path = 'keys/'\n",
    "\n",
    "with open(keys_path+'api_keys.json') as f:\n",
    "  api_keys = json.loads(f.read())\n",
    "\n",
    "# load pinecone credentials\n",
    "pine_key = api_keys['pine_key']\n",
    "pine_index = api_keys['pine_index']\n",
    "\n",
    "# initialize pinecone\n",
    "pc = Pinecone(pine_key)\n",
    "pine_index = pc.Index(pine_index)\n",
    "\n",
    "# load telegram credentials\n",
    "api_id = api_keys['api_id']\n",
    "api_hash = api_keys['api_hash']\n",
    "phone = api_keys['phone']"
   ]
  },
  {
   "cell_type": "code",
   "execution_count": null,
   "metadata": {},
   "outputs": [],
   "source": [
    "import asyncio\n",
    "from telethon import TelegramClient\n",
    "from telethon.sessions import StringSession\n",
    "\n",
    "async def main():\n",
    "    async with TelegramClient(StringSession(), api_id, api_hash) as client:\n",
    "        print(client.session.save())\n",
    "\n",
    "await main()  # Directly await the function"
   ]
  },
  {
   "cell_type": "code",
   "execution_count": 7,
   "metadata": {},
   "outputs": [
    {
     "data": {
      "text/plain": [
       "datetime.datetime(2024, 5, 24, 16, 50, 13, 632940)"
      ]
     },
     "execution_count": 7,
     "metadata": {},
     "output_type": "execute_result"
    }
   ],
   "source": [
    "datetime.now() - timedelta(days=1)"
   ]
  },
  {
   "cell_type": "code",
   "execution_count": null,
   "metadata": {},
   "outputs": [],
   "source": []
  },
  {
   "cell_type": "code",
   "execution_count": null,
   "metadata": {},
   "outputs": [],
   "source": []
  },
  {
   "cell_type": "code",
   "execution_count": null,
   "metadata": {},
   "outputs": [],
   "source": []
  },
  {
   "cell_type": "code",
   "execution_count": null,
   "metadata": {},
   "outputs": [],
   "source": [
    "# remove records from index older than N days\n",
    "days=40\n",
    "end_date = (datetime.today() - timedelta(days=days)).strftime('%Y-%m-%d')\n",
    "end_date = int(datetime.strptime(end_date, '%Y-%m-%d').timestamp())\n",
    "# create dump embedding with all zeros of 1536 dimensions\n",
    "zero_emb = [0]*1536\n",
    "\n",
    "filter = {\n",
    "    \"date\": { \"$lte\": end_date}\n",
    "    }\n",
    "\n",
    "# loop until all records older than 30 days are deleted\n",
    "num_deleted = 0\n",
    "while True:\n",
    "    # get 1K random ids of records older than 30 days\n",
    "    res = index.query(zero_emb, top_k=1000, include_metadata=False, filter=filter)\n",
    "    if res['matches'] == []:\n",
    "        print(f'No more records older than {days} days')\n",
    "        print(f'Deleted {num_deleted} records older than {days} days')\n",
    "        print('!!!! FINISHED !!!!')\n",
    "        break\n",
    "    ids = [r.id for r in res['matches']]\n",
    "    delete_response = index.delete(ids=ids)\n",
    "    if delete_response == {}: \n",
    "        num_deleted += len(ids)\n",
    "        print(f'Deleted {len(ids)} records older than {days} days')"
   ]
  }
 ],
 "metadata": {
  "kernelspec": {
   "display_name": "db_prep",
   "language": "python",
   "name": "python3"
  },
  "language_info": {
   "codemirror_mode": {
    "name": "ipython",
    "version": 3
   },
   "file_extension": ".py",
   "mimetype": "text/x-python",
   "name": "python",
   "nbconvert_exporter": "python",
   "pygments_lexer": "ipython3",
   "version": "3.11.6"
  }
 },
 "nbformat": 4,
 "nbformat_minor": 2
}
